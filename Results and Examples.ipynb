{
 "cells": [
  {
   "cell_type": "markdown",
   "metadata": {},
   "source": [
    "# API requests Examples\n",
    "\n",
    "Here are some realworld application of our model. We apply the prediction on existing articles."
   ]
  },
  {
   "cell_type": "code",
   "execution_count": 3,
   "metadata": {},
   "outputs": [],
   "source": [
    "import requests\n",
    "\n",
    "url = \"secret.url.com\"\n",
    "\n",
    "def evergreen_clf_pred(text):\n",
    "    json_text = {'text' : text}\n",
    "    pred = requests.post(url,json=json_text)\n",
    "\n",
    "    return pred.json()"
   ]
  },
  {
   "cell_type": "markdown",
   "metadata": {},
   "source": [
    "## Example 1\n",
    "Nüsse, Eier, Fleisch Nur genügend Eiweiß macht satt Eine eiweißreiche Mahlzeit stillt das Hungergefühl besser als ein Gericht mit vielen Kohlenhydraten und Fetten. Kein Wunder also, dass viele Reduktionsdiäten eiweißhaltig sind."
   ]
  },
  {
   "cell_type": "code",
   "execution_count": 10,
   "metadata": {},
   "outputs": [
    {
     "name": "stdout",
     "output_type": "stream",
     "text": [
      "{'evergreen_probability': 0.9997, 'is_truncated': False, 'label': 'Evergreen'}\n"
     ]
    }
   ],
   "source": [
    "print(evergreen_clf_pred(\"Nüsse, Eier, Fleisch Nur genügend Eiweiß macht satt Eine eiweißreiche Mahlzeit stillt das Hungergefühl besser als ein Gericht mit vielen Kohlenhydraten und Fetten. Kein Wunder also, dass viele Reduktionsdiäten eiweißhaltig sind.\"))"
   ]
  },
  {
   "cell_type": "markdown",
   "metadata": {},
   "source": [
    "# Example 2\n",
    "Experte gibt Tipps für die richtige Pflege Schon jetzt an den Rasen denken Der frühe Vogel fängt bekanntlich den Wurm. Und wer sich schon jetzt, wo der Frost das Land bis vior wenigen Tagen noch im Griff hatte, mit dem Garten beschäftigt, wird durch planvolles Handeln den berühmten Grünen Daumen befördern. Davon ist jedenfalls Egon Pott überzeugt. Der Rasen-Experte aus Ibbenbüren gibt in Seminaren sein Fachwissen an Freizeit-Gärtner weiter. Wir sprachen mit ihm."
   ]
  },
  {
   "cell_type": "code",
   "execution_count": 12,
   "metadata": {},
   "outputs": [
    {
     "name": "stdout",
     "output_type": "stream",
     "text": [
      "{'evergreen_probability': 0.9036, 'is_truncated': False, 'label': 'Evergreen'}\n"
     ]
    }
   ],
   "source": [
    "print(evergreen_clf_pred(\"Experte gibt Tipps für die richtige Pflege Schon jetzt an den Rasen denken Der frühe Vogel fängt bekanntlich den Wurm. Und wer sich schon jetzt, wo der Frost das Land bis vior wenigen Tagen noch im Griff hatte, mit dem Garten beschäftigt, wird durch planvolles Handeln den berühmten Grünen Daumen befördern. Davon ist jedenfalls Egon Pott überzeugt. Der Rasen-Experte aus Ibbenbüren gibt in Seminaren sein Fachwissen an Freizeit-Gärtner weiter. Wir sprachen mit ihm.\"))"
   ]
  },
  {
   "cell_type": "markdown",
   "metadata": {},
   "source": [
    "# Example 3\n",
    "\t\n",
    "Handball: Exponentiell steigende Corona-Neuinfektionen lassen weitere Absagen befürchten\n",
    "\n",
    "Spiel des TV Kattenvenne am Freitag ist abgesetzt\n",
    "\n",
    "Es kündigt sich an wie ein Ausstieg auf Raten. Wegen der Corona-Pandemie haben schon einige Vereine im Münsterland den Spielbetrieb in ihren jeweiligen Handball-Ligen eingestellt. Wie lange wird noch gespielt? Eine Saisonunterbrechung erscheint unausweichlich."
   ]
  },
  {
   "cell_type": "code",
   "execution_count": 15,
   "metadata": {
    "scrolled": true
   },
   "outputs": [
    {
     "name": "stdout",
     "output_type": "stream",
     "text": [
      "{'evergreen_probability': 0.0002, 'is_truncated': False, 'label': 'Ephemeral'}\n"
     ]
    }
   ],
   "source": [
    "print(evergreen_clf_pred(\"Handball: Exponentiell steigende Corona-Neuinfektionen lassen weitere Absagen befürchten Spiel des TV Kattenvenne am Freitag ist abgesetzt Es kündigt sich an wie ein Ausstieg auf Raten. Wegen der Corona-Pandemie haben schon einige Vereine im Münsterland den Spielbetrieb in ihren jeweiligen Handball-Ligen eingestellt. Wie lange wird noch gespielt? Eine Saisonunterbrechung erscheint unausweichlich.\"))"
   ]
  },
  {
   "cell_type": "markdown",
   "metadata": {},
   "source": [
    "# Example 4\n",
    "Zwei Schwerverletzte bei Unfall auf der L 520\n",
    "Rettungshubschrauber im Einsatz\n",
    "Am vergangenen Freitag ist es gegen 17-25 Uhr auf der Landstraße 520, zwischen Sendenhorst und Everswinkel, zu einem Verkehrsunfall mit zwei schwer verletzten Personen gekommen."
   ]
  },
  {
   "cell_type": "code",
   "execution_count": 16,
   "metadata": {},
   "outputs": [
    {
     "name": "stdout",
     "output_type": "stream",
     "text": [
      "{'evergreen_probability': 0.0001, 'is_truncated': False, 'label': 'Ephemeral'}\n"
     ]
    }
   ],
   "source": [
    "print(evergreen_clf_pred(\"Zwei Schwerverletzte bei Unfall auf der L 520 Rettungshubschrauber im Einsatz Am vergangenen Freitag ist es gegen 17-25 Uhr auf der Landstraße 520, zwischen Sendenhorst und Everswinkel, zu einem Verkehrsunfall mit zwei schwer verletzten Personen gekommen.\"))"
   ]
  }
 ],
 "metadata": {
  "kernelspec": {
   "display_name": "Python 3",
   "language": "python",
   "name": "python3"
  },
  "language_info": {
   "codemirror_mode": {
    "name": "ipython",
    "version": 3
   },
   "file_extension": ".py",
   "mimetype": "text/x-python",
   "name": "python",
   "nbconvert_exporter": "python",
   "pygments_lexer": "ipython3",
   "version": "3.8.5"
  }
 },
 "nbformat": 4,
 "nbformat_minor": 4
}
