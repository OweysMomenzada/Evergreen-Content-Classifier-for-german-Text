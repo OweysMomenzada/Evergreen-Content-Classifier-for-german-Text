{
 "cells": [
  {
   "cell_type": "code",
   "execution_count": null,
   "metadata": {
    "colab": {
     "base_uri": "https://localhost:8080/"
    },
    "id": "yDQVQcApEXXS",
    "outputId": "a7412d45-82f2-43aa-ff89-94af46ad5435"
   },
   "outputs": [
    {
     "name": "stdout",
     "output_type": "stream",
     "text": [
      "Mounted at /content/drive/\n"
     ]
    }
   ],
   "source": [
    "from google.colab import drive\n",
    "drive.mount('/content/drive/')"
   ]
  },
  {
   "cell_type": "code",
   "execution_count": null,
   "metadata": {
    "colab": {
     "base_uri": "https://localhost:8080/"
    },
    "id": "5Tr99agc2X8H",
    "outputId": "162c8096-8b81-489a-aa72-a1a346a34aec"
   },
   "outputs": [
    {
     "name": "stdout",
     "output_type": "stream",
     "text": [
      "[name: \"/device:CPU:0\"\n",
      "device_type: \"CPU\"\n",
      "memory_limit: 268435456\n",
      "locality {\n",
      "}\n",
      "incarnation: 5319708948942509158\n",
      ", name: \"/device:GPU:0\"\n",
      "device_type: \"GPU\"\n",
      "memory_limit: 14509932544\n",
      "locality {\n",
      "  bus_id: 1\n",
      "  links {\n",
      "  }\n",
      "}\n",
      "incarnation: 5512374829901747592\n",
      "physical_device_desc: \"device: 0, name: Tesla T4, pci bus id: 0000:00:04.0, compute capability: 7.5\"\n",
      "]\n",
      "Default GPU Device: /device:GPU:0\n"
     ]
    }
   ],
   "source": [
    "from tensorflow.python.client import device_lib\n",
    "print(device_lib.list_local_devices())\n",
    "  \n",
    "import tensorflow as tf\n",
    "if tf.test.gpu_device_name():\n",
    "    print('Default GPU Device: {}'.format(tf.test.gpu_device_name()))"
   ]
  },
  {
   "cell_type": "code",
   "execution_count": null,
   "metadata": {
    "colab": {
     "base_uri": "https://localhost:8080/"
    },
    "id": "EOWWYeuWzVgn",
    "outputId": "475a40e7-f497-4f34-b359-735900a532ce"
   },
   "outputs": [
    {
     "name": "stdout",
     "output_type": "stream",
     "text": [
      "x86_64 \n",
      "\n",
      "#1 SMP Sat Jun 5 09:50:34 PDT 2021 \n",
      "\n",
      "Linux-5.4.104+-x86_64-with-Ubuntu-18.04-bionic \n",
      "\n",
      "uname_result(system='Linux', node='e783529f9eb9', release='5.4.104+', version='#1 SMP Sat Jun 5 09:50:34 PDT 2021', machine='x86_64', processor='x86_64') \n",
      "\n",
      "Linux \n",
      "\n",
      "x86_64\n"
     ]
    }
   ],
   "source": [
    "import platform\n",
    "import tensorflow as tf\n",
    "\n",
    "if tf.test.is_built_with_cuda() == False:\n",
    "    print('ARBEIT OHNE GPU')\n",
    "\n",
    "print(platform.machine(), '\\n')\n",
    "print(platform.version(), '\\n')\n",
    "print(platform.platform(), '\\n')\n",
    "print(platform.uname(), '\\n')\n",
    "print(platform.system(), '\\n')\n",
    "print(platform.processor())"
   ]
  },
  {
   "cell_type": "code",
   "execution_count": null,
   "metadata": {
    "id": "0k6M73oKzVgv"
   },
   "outputs": [],
   "source": [
    "import pandas as pd\n",
    "import numpy as np\n",
    "import json\n",
    "import re\n",
    "import string\n",
    "\n",
    "df = pd.read_csv('/content/drive/MyDrive/StumbleUpon_translated.csv')\n",
    "df = df.rename(columns={'boilerplate':'text', 'label':'label_id'})\n",
    "df_drive = pd.read_csv('/content/drive/MyDrive/Drive-df.csv')\n",
    "\n",
    "# a little bit cleaning\n",
    "labels = pd.DataFrame({'label_id': [0,1], 'label_text': ['Non-Evergreen','Evergreen']})\n",
    "df = df.join(labels.set_index('label_id')[['label_text']], on='label_id')\n",
    "df_drive = df_drive.join(labels.set_index('label_id')[['label_text']], on='label_id')\n",
    "\n",
    "#rename index\n",
    "new_index=list(range(len(df)+1, len(df)+1+len(df_drive)))\n",
    "new_index = pd.DataFrame({'new_index': new_index})\n",
    "df_drive.rename(index=new_index['new_index'],inplace=True)\n",
    "\n",
    "#naming sources\n",
    "df['source'] = 'StumbleUpon'\n",
    "df_drive['source'] = 'Drive'\n",
    "\n",
    "del df['Unnamed: 0']\n",
    "del df_drive['Unnamed: 0']\n",
    "del df['urlid']\n",
    "\n",
    "#delete rows with null\n",
    "df = df.loc[~df['text_content'].isnull()]\n",
    "\n",
    "# append both stumbleupon and drive\n",
    "df = df.append(df_drive)\n",
    "\n",
    "# reset index\n",
    "df.reset_index(inplace=True)\n",
    "\n",
    "del df['index']"
   ]
  },
  {
   "cell_type": "code",
   "execution_count": null,
   "metadata": {
    "id": "2FTpSR_bLtuh"
   },
   "outputs": [],
   "source": [
    "# combine title and text\n",
    "def concat_title_text(df):\n",
    "  liste = []\n",
    "  for i in range(len(df)):\n",
    "    liste.append(df.title[i] + df.text_content[i])\n",
    "  \n",
    "  return liste\n",
    "\n",
    "df['text_content'] = concat_title_text(df)"
   ]
  },
  {
   "cell_type": "markdown",
   "metadata": {
    "id": "rU5bYeybzVgx"
   },
   "source": [
    "#### Data Preprocessing\n",
    "There are two methods:\n",
    "- Bag of Words Model (create a dic of all words and their frequency, remove high frequence words (or filler words)) \n",
    "- Term frequency- invers document frequency (tf-idf) (different notebook)"
   ]
  },
  {
   "cell_type": "markdown",
   "metadata": {
    "id": "Qc-uPE71zVgy"
   },
   "source": [
    "#### Splitting text into title and textcontent\n",
    "\n",
    "#### NOTE: \n",
    "\n",
    "Splitting the data into title and body could improve the accuracy upto 20%. In every case the fullbodytext has been performing worse than this approach below. \n",
    "\n",
    "Thus, the meaning in title are heavy weighted if it comes both to detect evergreens and non evergreens (and also multi-classes).  "
   ]
  },
  {
   "cell_type": "markdown",
   "metadata": {
    "id": "sHpDAXYNzVgz"
   },
   "source": [
    "#### Deleting symbolics and useless characters\n",
    "\n",
    "\n",
    "#### NOTES:\n",
    "We could observe that after the data cleaning, based on the regex, have slighty increased the accuracy of the binary clf.\n",
    "\n",
    "In addition after regex cleaning, the model performed way better in detail (Time complexity, CF-Matrix, multiclass clf, etc.). "
   ]
  },
  {
   "cell_type": "code",
   "execution_count": null,
   "metadata": {
    "id": "IRnc6e0YzVg0"
   },
   "outputs": [],
   "source": [
    "#get rid of further symbols \n",
    "df['text_content'] = df['text_content'].replace({'[»„‘’“”…]': ' '}, regex=True)\n",
    "\n",
    "# get rid of urls\n",
    "df['text_content'] = df['text_content'].replace({r\"https?://\\S+|www\\.\\S+\": ' '}, regex=True)\n",
    "\n",
    "#get not identified unicode\n",
    "df['text_content'] = df['text_content'].replace('[\\u0080-\\uffff]w{1-3}', \" \", regex=True)\n",
    "\n",
    "# replaces all stringw which are unicodes (\\u2009 \\a0x) and also removes bashes\n",
    "df['text_content'] = df['text_content'].replace({r\"[^\\x00-\\x7F\\w{1,3}]+\": ' '}, regex=True)"
   ]
  },
  {
   "cell_type": "markdown",
   "metadata": {
    "id": "pExVasXEzVg1"
   },
   "source": [
    "#### Delete Stopwords from Matrix\n",
    "\n",
    "##### NOTE:\n",
    "\n",
    "We could observe that deleting stopwords enhanced performance results without jeopardizing the accuarcy of the model.\n",
    "In some cases the accuracy got a little bit worse, for instance the LinearSVC performed better on evergreen classification without deleting stopwords.\n",
    "However, in most models the (especially the multi clf) benefits of the stopword removal. "
   ]
  },
  {
   "cell_type": "markdown",
   "metadata": {
    "id": "iyosCriZzVg2"
   },
   "source": [
    "### In this NB Wordgroups are not included. Since they enhance runtime and do not improve accuracy significantly enough"
   ]
  },
  {
   "cell_type": "code",
   "execution_count": null,
   "metadata": {
    "id": "uNzzf3b_zVg5"
   },
   "outputs": [],
   "source": [
    "# load own stopword list generated in the EDA and add it to the old stopwords\n",
    "with open('/content/drive/MyDrive/stopwords_nltk+eda.txt', 'r', encoding=\"utf-8\") as f:\n",
    "    german_stop_words = f.read().split(',')\n",
    "\n",
    "# detect and remove stopwords based on german_stop_words\n",
    "def remove_stopwords(text):\n",
    "    text = [word.lower() for word in text.split() if word.lower() not in german_stop_words]\n",
    "  \n",
    "    return \" \".join(text)\n",
    "\n",
    "# remove all stopwords\n",
    "df['text_content'] = df['text_content'].map(remove_stopwords) "
   ]
  },
  {
   "cell_type": "markdown",
   "metadata": {
    "id": "bLyk0n3YzVg6"
   },
   "source": [
    "# MODEL"
   ]
  },
  {
   "cell_type": "code",
   "execution_count": null,
   "metadata": {
    "id": "VcezkoUxzVg6"
   },
   "outputs": [],
   "source": [
    "from sklearn.model_selection  import train_test_split\n",
    "\n",
    "# train test splitting\n",
    "df_train, df_test = train_test_split(df, test_size=0.33, random_state=42)\n",
    "\n",
    "# start index at 0\n",
    "df_train.reset_index(inplace=True)\n",
    "df_test.reset_index(inplace=True)"
   ]
  },
  {
   "cell_type": "markdown",
   "metadata": {
    "id": "1Z5Wl0cFo0mU"
   },
   "source": [
    "# BERT for multilingual uncased"
   ]
  },
  {
   "cell_type": "code",
   "execution_count": null,
   "metadata": {
    "colab": {
     "base_uri": "https://localhost:8080/",
     "height": 379,
     "referenced_widgets": [
      "11e47bac35fc46bf838eabd9509ce964",
      "b2b248fc48e847efa9ae1b536f30efd5",
      "31c76a12f2214ad8a992b302199c087e",
      "299831509bc849fcb92dc19f89591c0e",
      "0d729015d2cf4dc4bfb0daae1b3c5ac6",
      "56c87805a59945cb981bd3209a07db44",
      "bd7dcf132eac42eda9b2de6c600803e9",
      "89e3a764b8b24283a3102be5c3ef6187",
      "f6f90fb61e584f81bc61252a3b57194a",
      "da68b7ae4193410c8a63c044e8ea018f",
      "15dc099659e947df9868ff532963003f",
      "a3f8442dd1024d49b3fcad17a772abc1",
      "cc8d58a5190e4bd4a3e662a416a18cbd",
      "c62d315726b846d7bcf634581caa0913",
      "4d757a830a1c4a659aeb8f0a38e41d44",
      "6520a5a1eb304e208864f734e7a44c61",
      "2714861a93d846439ad79dbee20e6a56",
      "76a32171d6e14ac6906f8e3ccfe3523a",
      "965709b012994ff387e278dedef3d0d1",
      "27930a4355a04571b29373d8e2262db1",
      "5d05ef13c71e47fcb790d61a3d1143fc",
      "c6f0d4cdca5548cdba8254ed51d8b62f",
      "d6e46239d62844ba8c945cb896d78b6b",
      "805a83b8be244203ab226c5b0224e2cc",
      "7fe26193e5fa490d94a4278c0de0da60",
      "4b330de4ef3744fabbacb47b8d1a549f",
      "4b311b5fca5344a2a7c16611689ea798",
      "5a3397acacd74bc09699e70eb73005a8",
      "62cd05ffa0b14ffd845c8decbd0c35b6",
      "ee3a53f77e9a4698aff9749fd38565b3",
      "a7a11cf41c934f4196edf08cbb72eb93",
      "fbb45ff5492449b59db43c3d78c7612b",
      "f3dc5ce081a04f1e95a6ad67ae5f8dd2",
      "000492f04a8641fa966edb4b2892b700",
      "ffd833a258394f4597f3514f59f3d478",
      "dc90766332d64eba8772d042c593709a",
      "a4576aa39905480eadd6a719db351b39",
      "f98af15ec4564621989a83496d6a6831",
      "7d06c963357a45f2af65fda88711d48d",
      "7406753d02d84af1946fcbaf1a10bc0e"
     ]
    },
    "id": "A1qB49xJzVg7",
    "outputId": "5b742d65-c8f6-425b-bec3-1d9f433d31d9"
   },
   "outputs": [
    {
     "data": {
      "application/vnd.jupyter.widget-view+json": {
       "model_id": "11e47bac35fc46bf838eabd9509ce964",
       "version_major": 2,
       "version_minor": 0
      },
      "text/plain": [
       "HBox(children=(FloatProgress(value=0.0, description='Downloading', max=28.0, style=ProgressStyle(description_w…"
      ]
     },
     "metadata": {
      "tags": []
     },
     "output_type": "display_data"
    },
    {
     "name": "stdout",
     "output_type": "stream",
     "text": [
      "\n"
     ]
    },
    {
     "data": {
      "application/vnd.jupyter.widget-view+json": {
       "model_id": "f6f90fb61e584f81bc61252a3b57194a",
       "version_major": 2,
       "version_minor": 0
      },
      "text/plain": [
       "HBox(children=(FloatProgress(value=0.0, description='Downloading', max=625.0, style=ProgressStyle(description_…"
      ]
     },
     "metadata": {
      "tags": []
     },
     "output_type": "display_data"
    },
    {
     "name": "stdout",
     "output_type": "stream",
     "text": [
      "\n"
     ]
    },
    {
     "data": {
      "application/vnd.jupyter.widget-view+json": {
       "model_id": "2714861a93d846439ad79dbee20e6a56",
       "version_major": 2,
       "version_minor": 0
      },
      "text/plain": [
       "HBox(children=(FloatProgress(value=0.0, description='Downloading', max=871891.0, style=ProgressStyle(descripti…"
      ]
     },
     "metadata": {
      "tags": []
     },
     "output_type": "display_data"
    },
    {
     "name": "stdout",
     "output_type": "stream",
     "text": [
      "\n"
     ]
    },
    {
     "data": {
      "application/vnd.jupyter.widget-view+json": {
       "model_id": "7fe26193e5fa490d94a4278c0de0da60",
       "version_major": 2,
       "version_minor": 0
      },
      "text/plain": [
       "HBox(children=(FloatProgress(value=0.0, description='Downloading', max=1715180.0, style=ProgressStyle(descript…"
      ]
     },
     "metadata": {
      "tags": []
     },
     "output_type": "display_data"
    },
    {
     "name": "stdout",
     "output_type": "stream",
     "text": [
      "\n"
     ]
    },
    {
     "data": {
      "application/vnd.jupyter.widget-view+json": {
       "model_id": "f3dc5ce081a04f1e95a6ad67ae5f8dd2",
       "version_major": 2,
       "version_minor": 0
      },
      "text/plain": [
       "HBox(children=(FloatProgress(value=0.0, description='Downloading', max=999358484.0, style=ProgressStyle(descri…"
      ]
     },
     "metadata": {
      "tags": []
     },
     "output_type": "display_data"
    },
    {
     "name": "stdout",
     "output_type": "stream",
     "text": [
      "\n"
     ]
    },
    {
     "name": "stderr",
     "output_type": "stream",
     "text": [
      "Some layers from the model checkpoint at bert-base-multilingual-uncased were not used when initializing TFBertModel: ['nsp___cls', 'mlm___cls']\n",
      "- This IS expected if you are initializing TFBertModel from the checkpoint of a model trained on another task or with another architecture (e.g. initializing a BertForSequenceClassification model from a BertForPreTraining model).\n",
      "- This IS NOT expected if you are initializing TFBertModel from the checkpoint of a model that you expect to be exactly identical (initializing a BertForSequenceClassification model from a BertForSequenceClassification model).\n",
      "All the layers of TFBertModel were initialized from the model checkpoint at bert-base-multilingual-uncased.\n",
      "If your task is similar to the task the model of the checkpoint was trained on, you can already use TFBertModel for predictions without further training.\n"
     ]
    }
   ],
   "source": [
    "from transformers import AutoTokenizer, TFAutoModel\n",
    "\n",
    "#Downloading the tokenizer and the Albert model for fine tuning\n",
    "\n",
    "tokenizer = AutoTokenizer.from_pretrained('bert-base-multilingual-uncased')\n",
    "bert=TFAutoModel.from_pretrained('bert-base-multilingual-uncased')"
   ]
  },
  {
   "cell_type": "code",
   "execution_count": null,
   "metadata": {
    "id": "XMVN3VQVzVg7"
   },
   "outputs": [],
   "source": [
    "# max length of berttokenizer  is 512\n",
    "max_length=512\n",
    "\n",
    "#creating mask for tokens\n",
    "Xids_train=np.zeros((df_train.shape[0],max_length))\n",
    "Xmask_train=np.zeros((df_train.shape[0],max_length))\n",
    "y_train=np.zeros((df_train.shape[0],1))\n",
    "\n",
    "#creating mask for tokens\n",
    "Xids_test=np.zeros((df_test.shape[0],max_length))\n",
    "Xmask_test=np.zeros((df_test.shape[0],max_length))"
   ]
  },
  {
   "cell_type": "code",
   "execution_count": null,
   "metadata": {
    "id": "BgCOMNcAzVg7"
   },
   "outputs": [],
   "source": [
    "# for i (which is the index of article) and sequence (which is the text_content)\n",
    "for i,sequence in enumerate(df_train['text_content']):\n",
    "    #Tokenize and prepare for the model\n",
    "    tokens=tokenizer.encode_plus(sequence,max_length=max_length,padding='max_length',add_special_tokens=True,\n",
    "                           truncation=True,return_token_type_ids=False,return_attention_mask=True,\n",
    "                           return_tensors='tf')\n",
    "    # tokens generated\n",
    "    Xids_train[i,:] = tokens['input_ids']\n",
    "    # 0 shows a word which will be filled. 1 a word which will be tokened uniquely\n",
    "    Xmask_train[i,:] = tokens['attention_mask']\n",
    "    #gets labels into array\n",
    "    y_train[i,0] = df_train.loc[i,'label_id']\n",
    "    \n",
    "for i,sequence in enumerate(df_test['text_content']):\n",
    "    tokens=tokenizer.encode_plus(sequence,max_length=max_length,padding='max_length',add_special_tokens=True,\n",
    "                           truncation=True,return_token_type_ids=False,return_attention_mask=True,\n",
    "                           return_tensors='tf')\n",
    "    Xids_test[i,:] = tokens['input_ids']\n",
    "    Xmask_test[i,:] = tokens['attention_mask']"
   ]
  },
  {
   "cell_type": "code",
   "execution_count": null,
   "metadata": {
    "id": "HdOlwBE2zVg8"
   },
   "outputs": [],
   "source": [
    "# put results of sells above together\n",
    "dataset=tf.data.Dataset.from_tensor_slices((Xids_train,Xmask_train,y_train))\n",
    "\n",
    "# change result as one dict except of labels staying as tensors\n",
    "def map_func(input_ids,mask,labels):\n",
    "    return {'input_ids':input_ids,'attention_mask':mask},labels\n",
    "\n",
    "# apply on all values\n",
    "dataset=dataset.map(map_func)\n",
    "# shuffling and define 64 articles in 1 batch result for training\n",
    "dataset=dataset.shuffle(100000).batch(64).prefetch(1000)\n",
    "\n",
    "# getting numbers of the batches\n",
    "DS_size=len(list(dataset))\n",
    "\n",
    "# batch val and train ratio\n",
    "train=dataset.take(round(DS_size*0.85))\n",
    "val=dataset.skip(round(DS_size*0.85))"
   ]
  },
  {
   "cell_type": "code",
   "execution_count": null,
   "metadata": {
    "id": "R_E7mcHzzVg8"
   },
   "outputs": [],
   "source": [
    "# do the same combining for test_data\n",
    "dataset_test=tf.data.Dataset.from_tensor_slices((Xids_test,Xmask_test))\n",
    "\n",
    "def map_func(input_ids,mask):\n",
    "    return {'input_ids':input_ids,'attention_mask':mask}\n",
    "\n",
    "dataset_test=dataset_test.map(map_func)\n",
    "# batching it to or the predictions will be multiplied by the shape\n",
    "dataset_test=dataset_test.batch(64).prefetch(1000)"
   ]
  },
  {
   "cell_type": "code",
   "execution_count": null,
   "metadata": {
    "colab": {
     "base_uri": "https://localhost:8080/"
    },
    "id": "RXTZSCGrGAzy",
    "outputId": "dc418bbf-8091-4214-87aa-db4f38e597fe",
    "scrolled": true
   },
   "outputs": [
    {
     "data": {
      "text/plain": [
       "({'attention_mask': <tf.Tensor: shape=(64, 512), dtype=float64, numpy=\n",
       "  array([[1., 1., 1., ..., 1., 1., 1.],\n",
       "         [1., 1., 1., ..., 0., 0., 0.],\n",
       "         [1., 1., 1., ..., 1., 1., 1.],\n",
       "         ...,\n",
       "         [1., 1., 1., ..., 1., 1., 1.],\n",
       "         [1., 1., 1., ..., 1., 1., 1.],\n",
       "         [1., 1., 1., ..., 0., 0., 0.]])>,\n",
       "  'input_ids': <tf.Tensor: shape=(64, 512), dtype=float64, numpy=\n",
       "  array([[  101., 93354., 10234., ..., 68859., 21721.,   102.],\n",
       "         [  101., 77423., 28561., ...,     0.,     0.,     0.],\n",
       "         [  101., 19047., 87029., ..., 47822., 73293.,   102.],\n",
       "         ...,\n",
       "         [  101., 93135., 12354., ..., 44673., 59665.,   102.],\n",
       "         [  101., 12537., 87951., ..., 10143., 85351.,   102.],\n",
       "         [  101., 10514., 11248., ...,     0.,     0.,     0.]])>},\n",
       " <tf.Tensor: shape=(64, 1), dtype=float64, numpy=\n",
       " array([[0.],\n",
       "        [0.],\n",
       "        [1.],\n",
       "        [0.],\n",
       "        [0.],\n",
       "        [0.],\n",
       "        [0.],\n",
       "        [0.],\n",
       "        [0.],\n",
       "        [0.],\n",
       "        [0.],\n",
       "        [0.],\n",
       "        [0.],\n",
       "        [0.],\n",
       "        [0.],\n",
       "        [1.],\n",
       "        [0.],\n",
       "        [0.],\n",
       "        [1.],\n",
       "        [0.],\n",
       "        [1.],\n",
       "        [0.],\n",
       "        [1.],\n",
       "        [0.],\n",
       "        [0.],\n",
       "        [0.],\n",
       "        [0.],\n",
       "        [0.],\n",
       "        [1.],\n",
       "        [1.],\n",
       "        [0.],\n",
       "        [0.],\n",
       "        [1.],\n",
       "        [0.],\n",
       "        [0.],\n",
       "        [0.],\n",
       "        [1.],\n",
       "        [0.],\n",
       "        [0.],\n",
       "        [1.],\n",
       "        [1.],\n",
       "        [1.],\n",
       "        [0.],\n",
       "        [0.],\n",
       "        [0.],\n",
       "        [1.],\n",
       "        [0.],\n",
       "        [1.],\n",
       "        [0.],\n",
       "        [1.],\n",
       "        [1.],\n",
       "        [1.],\n",
       "        [1.],\n",
       "        [1.],\n",
       "        [0.],\n",
       "        [0.],\n",
       "        [0.],\n",
       "        [0.],\n",
       "        [1.],\n",
       "        [0.],\n",
       "        [0.],\n",
       "        [1.],\n",
       "        [0.],\n",
       "        [0.]])>)"
      ]
     },
     "execution_count": 23,
     "metadata": {
      "tags": []
     },
     "output_type": "execute_result"
    }
   ],
   "source": [
    "# printing one train-batch\n",
    "list(train)[0]"
   ]
  },
  {
   "cell_type": "code",
   "execution_count": null,
   "metadata": {
    "id": "wu_ilmR1wezd"
   },
   "outputs": [],
   "source": [
    "#save model\n",
    "from __future__ import absolute_import, division, print_function\n",
    "import os\n",
    "\n",
    "tf.__version__\n",
    "\n",
    "checkpoint_path = \"/content/model_pretrain/Colab Notebooks\"\n",
    "checkpoint_dir = os.path.dirname(checkpoint_path)\n",
    "\n",
    "cp_callback = tf.keras.callbacks.ModelCheckpoint(checkpoint_path, \n",
    "                                                 save_weights_only=True,\n",
    "                                                 verbose=1)"
   ]
  },
  {
   "cell_type": "code",
   "execution_count": null,
   "metadata": {
    "id": "FbhNIIYYzVg8"
   },
   "outputs": [],
   "source": [
    "import tensorflow as tf \n",
    "\n",
    "def evergreen_model():\n",
    "  input_ids=tf.keras.layers.Input(shape=(max_length,),name='input_ids',dtype='int32')\n",
    "  input_mask=tf.keras.layers.Input(shape=(max_length,),name='attention_mask',dtype='int32')\n",
    "  \n",
    "  # keras layers suggestion based on BERT textclf\n",
    "  embedding=bert(input_ids,attention_mask=input_mask)[0]\n",
    "  x=tf.keras.layers.GlobalMaxPool1D()(embedding)\n",
    "  x=tf.keras.layers.GlobalAveragePooling1D()(embedding)\n",
    "  x=tf.keras.layers.BatchNormalization()(x)\n",
    "  x=tf.keras.layers.Dense(128,activation='relu')(x)\n",
    "  x=tf.keras.layers.Dropout(0.3)(x)\n",
    "  x=tf.keras.layers.Dense(64,activation='relu')(x)\n",
    "  output=tf.keras.layers.Dense(1,activation='sigmoid')(x)\n",
    "  \n",
    "  model=tf.keras.Model(inputs=[input_ids,input_mask],outputs=output)\n",
    "  \n",
    "  model.layers[2].trainable=False\n",
    "\n",
    "  return model"
   ]
  },
  {
   "cell_type": "code",
   "execution_count": null,
   "metadata": {
    "colab": {
     "base_uri": "https://localhost:8080/"
    },
    "id": "pbJCwmVGLeNS",
    "outputId": "25dc7e3d-6c91-463b-943d-dad29b8c1d4d"
   },
   "outputs": [
    {
     "name": "stdout",
     "output_type": "stream",
     "text": [
      "WARNING:tensorflow:The parameters `output_attentions`, `output_hidden_states` and `use_cache` cannot be updated when calling a model.They have to be set to True/False in the config object (i.e.: `config=XConfig.from_pretrained('name', output_attentions=True)`).\n",
      "WARNING:tensorflow:The parameter `return_dict` cannot be set in graph mode and will always be set to `True`.\n",
      "Model: \"model_27\"\n",
      "__________________________________________________________________________________________________\n",
      "Layer (type)                    Output Shape         Param #     Connected to                     \n",
      "==================================================================================================\n",
      "input_ids (InputLayer)          [(None, 512)]        0                                            \n",
      "__________________________________________________________________________________________________\n",
      "attention_mask (InputLayer)     [(None, 512)]        0                                            \n",
      "__________________________________________________________________________________________________\n",
      "tf_bert_model (TFBertModel)     TFBaseModelOutputWit 167356416   input_ids[0][0]                  \n",
      "                                                                 attention_mask[0][0]             \n",
      "__________________________________________________________________________________________________\n",
      "global_average_pooling1d_27 (Gl (None, 768)          0           tf_bert_model[27][0]             \n",
      "__________________________________________________________________________________________________\n",
      "batch_normalization_27 (BatchNo (None, 768)          3072        global_average_pooling1d_27[0][0]\n",
      "__________________________________________________________________________________________________\n",
      "dense_81 (Dense)                (None, 128)          98432       batch_normalization_27[0][0]     \n",
      "__________________________________________________________________________________________________\n",
      "dropout_64 (Dropout)            (None, 128)          0           dense_81[0][0]                   \n",
      "__________________________________________________________________________________________________\n",
      "dense_82 (Dense)                (None, 64)           8256        dropout_64[0][0]                 \n",
      "__________________________________________________________________________________________________\n",
      "dense_83 (Dense)                (None, 1)            65          dense_82[0][0]                   \n",
      "==================================================================================================\n",
      "Total params: 167,466,241\n",
      "Trainable params: 108,289\n",
      "Non-trainable params: 167,357,952\n",
      "__________________________________________________________________________________________________\n"
     ]
    }
   ],
   "source": [
    "model = evergreen_model()\n",
    "\n",
    "model.summary()"
   ]
  },
  {
   "cell_type": "code",
   "execution_count": null,
   "metadata": {
    "id": "LWUaob2wzVg-"
   },
   "outputs": [],
   "source": [
    "model.compile(loss=tf.keras.losses.BinaryCrossentropy(),\n",
    "              optimizer='adam',metrics=[tf.keras.metrics.AUC()])\n",
    "\n",
    "\n",
    "#model.fit(train,validation_data=val,epochs=1, callbacks=[cp_callback])\n"
   ]
  },
  {
   "cell_type": "code",
   "execution_count": null,
   "metadata": {
    "colab": {
     "base_uri": "https://localhost:8080/"
    },
    "id": "HY7UPNE8y6-e",
    "outputId": "8942c693-76f8-423e-dc31-3ffeb7007ce1"
   },
   "outputs": [
    {
     "name": "stdout",
     "output_type": "stream",
     "text": [
      "WARNING:tensorflow:The parameters `output_attentions`, `output_hidden_states` and `use_cache` cannot be updated when calling a model.They have to be set to True/False in the config object (i.e.: `config=XConfig.from_pretrained('name', output_attentions=True)`).\n",
      "WARNING:tensorflow:The parameter `return_dict` cannot be set in graph mode and will always be set to `True`.\n"
     ]
    },
    {
     "data": {
      "text/plain": [
       "<tensorflow.python.training.tracking.util.CheckpointLoadStatus at 0x7efa27628710>"
      ]
     },
     "execution_count": 100,
     "metadata": {
      "tags": []
     },
     "output_type": "execute_result"
    }
   ],
   "source": [
    "model_loaded = evergreen_model()\n",
    "\n",
    "model_loaded.load_weights(checkpoint_path)"
   ]
  },
  {
   "cell_type": "code",
   "execution_count": null,
   "metadata": {
    "colab": {
     "base_uri": "https://localhost:8080/"
    },
    "id": "R-KTaHZUzVg_",
    "outputId": "544e27dd-17bd-43cf-d926-e8dbdf2866db",
    "scrolled": true
   },
   "outputs": [
    {
     "name": "stdout",
     "output_type": "stream",
     "text": [
      "WARNING:tensorflow:The parameters `output_attentions`, `output_hidden_states` and `use_cache` cannot be updated when calling a model.They have to be set to True/False in the config object (i.e.: `config=XConfig.from_pretrained('name', output_attentions=True)`).\n",
      "WARNING:tensorflow:The parameter `return_dict` cannot be set in graph mode and will always be set to `True`.\n"
     ]
    }
   ],
   "source": [
    "predictions=model_loaded.predict(dataset_test)"
   ]
  },
  {
   "cell_type": "code",
   "execution_count": null,
   "metadata": {
    "colab": {
     "base_uri": "https://localhost:8080/"
    },
    "id": "jPKlyn7t49xy",
    "outputId": "4cec1587-3412-4da5-b2ae-3fadad2eaa27"
   },
   "outputs": [
    {
     "name": "stderr",
     "output_type": "stream",
     "text": [
      "/usr/local/lib/python3.7/dist-packages/ipykernel_launcher.py:1: SettingWithCopyWarning: \n",
      "A value is trying to be set on a copy of a slice from a DataFrame.\n",
      "Try using .loc[row_indexer,col_indexer] = value instead\n",
      "\n",
      "See the caveats in the documentation: https://pandas.pydata.org/pandas-docs/stable/user_guide/indexing.html#returning-a-view-versus-a-copy\n",
      "  \"\"\"Entry point for launching an IPython kernel.\n"
     ]
    }
   ],
   "source": [
    "df_test['predicted_label'] = predictions"
   ]
  },
  {
   "cell_type": "markdown",
   "metadata": {
    "id": "SIEBvuBGVc6D"
   },
   "source": [
    "## Calculating best Threshhold + Eval\n",
    "Source: \n",
    "https://machinelearningmastery.com/threshold-moving-for-imbalanced-classification/#:%7E:text=Optimal%20Threshold%20for%20Precision%2DRecall%20Curve,-Unlike%20the%20ROC&text=Recall%20is%20calculated%20as%20the,is%20the%20same%20as%20sensitivity."
   ]
  },
  {
   "cell_type": "code",
   "execution_count": null,
   "metadata": {
    "colab": {
     "base_uri": "https://localhost:8080/"
    },
    "id": "u0fKKkSwTzID",
    "outputId": "a5c39944-e537-4d51-d64f-c743f8ea13d8"
   },
   "outputs": [
    {
     "name": "stdout",
     "output_type": "stream",
     "text": [
      "Best Threshold based on preds =0.656491, F-Score=0.801\n",
      "The Second Best Threshold after observing =0.565859, F-Score=0.800\n",
      "The Third Best Threshold after observing =0.505386, F-Score=0.799\n"
     ]
    }
   ],
   "source": [
    "from sklearn.metrics import precision_recall_curve\n",
    "from numpy import argmax\n",
    "\n",
    "# calculate pr curve\n",
    "precision, recall, thresholds = precision_recall_curve(df_test['label_id'], df_test['predicted_label'])\n",
    "\n",
    "# convert to f score\n",
    "fscore = (2 * precision * recall) / (precision + recall)\n",
    "# locate the index of the largest f score\n",
    "ix = argmax(fscore)\n",
    "print('Best Threshold based on preds =%f, F-Score=%.3f' % (thresholds[ix], fscore[ix]))\n",
    "print('The Second Best Threshold after observing =%f, F-Score=%.3f' % (thresholds[455], fscore[455]))\n",
    "print('The Third Best Threshold after observing =%f, F-Score=%.3f' % (thresholds[454], fscore[454]))"
   ]
  },
  {
   "cell_type": "markdown",
   "metadata": {
    "id": "_rrrQz7EQJtM"
   },
   "source": [
    "In previous predictions we could notice that the best threshhold is between 0.505-0.59\n",
    "Because of the pred_labels we have ha significant jump from 0.505 to 0.509. Thus, the 'best' threshold appears to be 0.65. \n",
    "\n",
    "Therefore, we take the average between the third and second best.\n",
    "\n",
    "\n"
   ]
  },
  {
   "cell_type": "code",
   "execution_count": null,
   "metadata": {
    "colab": {
     "base_uri": "https://localhost:8080/"
    },
    "id": "Dl4R5LzZQDwy",
    "outputId": "22e9d30e-1171-4ba6-ab23-80c12f7890e5"
   },
   "outputs": [
    {
     "name": "stdout",
     "output_type": "stream",
     "text": [
      "New Best Threshold after observing =0.535622\n"
     ]
    }
   ],
   "source": [
    "threshold = (thresholds[454]+thresholds[455])/2\n",
    "\n",
    "print('New Best Threshold after observing =%f' % (threshold))"
   ]
  },
  {
   "cell_type": "code",
   "execution_count": null,
   "metadata": {
    "colab": {
     "base_uri": "https://localhost:8080/"
    },
    "id": "nTdPFxX7H4tf",
    "outputId": "15326937-0315-402d-a06f-cf5f877ffdd1"
   },
   "outputs": [
    {
     "name": "stdout",
     "output_type": "stream",
     "text": [
      "Anzahl der true_labels für 0:  481 \n",
      "\n",
      "Anzahl der pred_labels für t:  411 \n",
      "\n",
      "Accuracy für gegeben threshold t:  85.44698544698545 %\n"
     ]
    }
   ],
   "source": [
    "# show predictions for nonevergreens\n",
    "tmp_negative = df_test[df_test.label_id == 0][['label_id', 'predicted_label']]\n",
    "\n",
    "print('Anzahl der true_labels für 0: ', len(tmp_negative), '\\n')\n",
    "\n",
    "print('Anzahl der pred_labels für t: ', len(tmp_negative[tmp_negative.predicted_label < threshold]), '\\n')\n",
    "\n",
    "print('Accuracy für gegeben threshold t: ', (len(tmp_negative[tmp_negative.predicted_label < threshold])/len(tmp_negative)*100), '%')"
   ]
  },
  {
   "cell_type": "code",
   "execution_count": null,
   "metadata": {
    "colab": {
     "base_uri": "https://localhost:8080/"
    },
    "id": "3g8nryqPHfJC",
    "outputId": "b23e07bd-08f7-4caf-a282-c01053d09f9b"
   },
   "outputs": [
    {
     "name": "stdout",
     "output_type": "stream",
     "text": [
      "Anzahl der true_labels für 0:  350 \n",
      "\n",
      "Anzahl der pred_labels für t > 0.5:  280 \n",
      "\n",
      "Accuracy für gegeben threshold t:  80.0 %\n"
     ]
    }
   ],
   "source": [
    "# show predictions for evergreens\n",
    "tmp_positive = df_test[df_test.label_id == 1][['label_id', 'predicted_label']]\n",
    "\n",
    "print('Anzahl der true_labels für 0: ', len(tmp_positive), '\\n')\n",
    "\n",
    "print('Anzahl der pred_labels für t > 0.5: ', len(tmp_positive[tmp_positive.predicted_label > threshold]), '\\n')\n",
    "\n",
    "print('Accuracy für gegeben threshold t: ', (len(tmp_positive[tmp_positive.predicted_label > threshold])/len(tmp_positive))*100, '%')"
   ]
  },
  {
   "cell_type": "code",
   "execution_count": null,
   "metadata": {
    "colab": {
     "base_uri": "https://localhost:8080/"
    },
    "id": "1TLmH50KbFqY",
    "outputId": "689c79a8-041d-4cfa-ac00-491c7abec13f"
   },
   "outputs": [
    {
     "name": "stdout",
     "output_type": "stream",
     "text": [
      "Accuracy in %: 83.15282791817089\n"
     ]
    }
   ],
   "source": [
    "# all this should be 0\n",
    "tmp_0 = df_test[df_test.predicted_label < threshold][['label_id', 'predicted_label']]\n",
    "# right preds\n",
    "right_pred_0 = len(tmp_0[tmp_0.label_id == 0])\n",
    "\n",
    "# all this should be 1\n",
    "tmp_1 = df_test[df_test.predicted_label > threshold][['label_id', 'predicted_label']]\n",
    "# right pred\n",
    "right_pred_1 = len(tmp_1[tmp_1.label_id == 1])\n",
    "\n",
    "#print accuracy on not seen\n",
    "print('Accuracy in %:', (right_pred_0+right_pred_1)/len(df_test)*100)"
   ]
  }
 ],
 "metadata": {
  "colab": {
   "collapsed_sections": [],
   "name": "Clf_Evergreen-StumbleUpon&Drive-BERT&Huggingface.ipynb",
   "provenance": []
  },
  "kernelspec": {
   "display_name": "Python 3",
   "language": "python",
   "name": "python3"
  },
  "language_info": {
   "codemirror_mode": {
    "name": "ipython",
    "version": 3
   },
   "file_extension": ".py",
   "mimetype": "text/x-python",
   "name": "python",
   "nbconvert_exporter": "python",
   "pygments_lexer": "ipython3",
   "version": "3.8.5"
  },
  "widgets": {
   "application/vnd.jupyter.widget-state+json": {
    "000492f04a8641fa966edb4b2892b700": {
     "model_module": "@jupyter-widgets/base",
     "model_module_version": "1.2.0",
     "model_name": "LayoutModel",
     "state": {
      "_model_module": "@jupyter-widgets/base",
      "_model_module_version": "1.2.0",
      "_model_name": "LayoutModel",
      "_view_count": null,
      "_view_module": "@jupyter-widgets/base",
      "_view_module_version": "1.2.0",
      "_view_name": "LayoutView",
      "align_content": null,
      "align_items": null,
      "align_self": null,
      "border": null,
      "bottom": null,
      "display": null,
      "flex": null,
      "flex_flow": null,
      "grid_area": null,
      "grid_auto_columns": null,
      "grid_auto_flow": null,
      "grid_auto_rows": null,
      "grid_column": null,
      "grid_gap": null,
      "grid_row": null,
      "grid_template_areas": null,
      "grid_template_columns": null,
      "grid_template_rows": null,
      "height": null,
      "justify_content": null,
      "justify_items": null,
      "left": null,
      "margin": null,
      "max_height": null,
      "max_width": null,
      "min_height": null,
      "min_width": null,
      "object_fit": null,
      "object_position": null,
      "order": null,
      "overflow": null,
      "overflow_x": null,
      "overflow_y": null,
      "padding": null,
      "right": null,
      "top": null,
      "visibility": null,
      "width": null
     }
    },
    "0d729015d2cf4dc4bfb0daae1b3c5ac6": {
     "model_module": "@jupyter-widgets/controls",
     "model_module_version": "1.5.0",
     "model_name": "ProgressStyleModel",
     "state": {
      "_model_module": "@jupyter-widgets/controls",
      "_model_module_version": "1.5.0",
      "_model_name": "ProgressStyleModel",
      "_view_count": null,
      "_view_module": "@jupyter-widgets/base",
      "_view_module_version": "1.2.0",
      "_view_name": "StyleView",
      "bar_color": null,
      "description_width": "initial"
     }
    },
    "11e47bac35fc46bf838eabd9509ce964": {
     "model_module": "@jupyter-widgets/controls",
     "model_module_version": "1.5.0",
     "model_name": "HBoxModel",
     "state": {
      "_dom_classes": [],
      "_model_module": "@jupyter-widgets/controls",
      "_model_module_version": "1.5.0",
      "_model_name": "HBoxModel",
      "_view_count": null,
      "_view_module": "@jupyter-widgets/controls",
      "_view_module_version": "1.5.0",
      "_view_name": "HBoxView",
      "box_style": "",
      "children": [
       "IPY_MODEL_31c76a12f2214ad8a992b302199c087e",
       "IPY_MODEL_299831509bc849fcb92dc19f89591c0e"
      ],
      "layout": "IPY_MODEL_b2b248fc48e847efa9ae1b536f30efd5"
     }
    },
    "15dc099659e947df9868ff532963003f": {
     "model_module": "@jupyter-widgets/controls",
     "model_module_version": "1.5.0",
     "model_name": "FloatProgressModel",
     "state": {
      "_dom_classes": [],
      "_model_module": "@jupyter-widgets/controls",
      "_model_module_version": "1.5.0",
      "_model_name": "FloatProgressModel",
      "_view_count": null,
      "_view_module": "@jupyter-widgets/controls",
      "_view_module_version": "1.5.0",
      "_view_name": "ProgressView",
      "bar_style": "success",
      "description": "Downloading: 100%",
      "description_tooltip": null,
      "layout": "IPY_MODEL_c62d315726b846d7bcf634581caa0913",
      "max": 625,
      "min": 0,
      "orientation": "horizontal",
      "style": "IPY_MODEL_cc8d58a5190e4bd4a3e662a416a18cbd",
      "value": 625
     }
    },
    "2714861a93d846439ad79dbee20e6a56": {
     "model_module": "@jupyter-widgets/controls",
     "model_module_version": "1.5.0",
     "model_name": "HBoxModel",
     "state": {
      "_dom_classes": [],
      "_model_module": "@jupyter-widgets/controls",
      "_model_module_version": "1.5.0",
      "_model_name": "HBoxModel",
      "_view_count": null,
      "_view_module": "@jupyter-widgets/controls",
      "_view_module_version": "1.5.0",
      "_view_name": "HBoxView",
      "box_style": "",
      "children": [
       "IPY_MODEL_965709b012994ff387e278dedef3d0d1",
       "IPY_MODEL_27930a4355a04571b29373d8e2262db1"
      ],
      "layout": "IPY_MODEL_76a32171d6e14ac6906f8e3ccfe3523a"
     }
    },
    "27930a4355a04571b29373d8e2262db1": {
     "model_module": "@jupyter-widgets/controls",
     "model_module_version": "1.5.0",
     "model_name": "HTMLModel",
     "state": {
      "_dom_classes": [],
      "_model_module": "@jupyter-widgets/controls",
      "_model_module_version": "1.5.0",
      "_model_name": "HTMLModel",
      "_view_count": null,
      "_view_module": "@jupyter-widgets/controls",
      "_view_module_version": "1.5.0",
      "_view_name": "HTMLView",
      "description": "",
      "description_tooltip": null,
      "layout": "IPY_MODEL_805a83b8be244203ab226c5b0224e2cc",
      "placeholder": "​",
      "style": "IPY_MODEL_d6e46239d62844ba8c945cb896d78b6b",
      "value": " 872k/872k [00:02&lt;00:00, 326kB/s]"
     }
    },
    "299831509bc849fcb92dc19f89591c0e": {
     "model_module": "@jupyter-widgets/controls",
     "model_module_version": "1.5.0",
     "model_name": "HTMLModel",
     "state": {
      "_dom_classes": [],
      "_model_module": "@jupyter-widgets/controls",
      "_model_module_version": "1.5.0",
      "_model_name": "HTMLModel",
      "_view_count": null,
      "_view_module": "@jupyter-widgets/controls",
      "_view_module_version": "1.5.0",
      "_view_name": "HTMLView",
      "description": "",
      "description_tooltip": null,
      "layout": "IPY_MODEL_89e3a764b8b24283a3102be5c3ef6187",
      "placeholder": "​",
      "style": "IPY_MODEL_bd7dcf132eac42eda9b2de6c600803e9",
      "value": " 28.0/28.0 [00:39&lt;00:00, 1.42s/B]"
     }
    },
    "31c76a12f2214ad8a992b302199c087e": {
     "model_module": "@jupyter-widgets/controls",
     "model_module_version": "1.5.0",
     "model_name": "FloatProgressModel",
     "state": {
      "_dom_classes": [],
      "_model_module": "@jupyter-widgets/controls",
      "_model_module_version": "1.5.0",
      "_model_name": "FloatProgressModel",
      "_view_count": null,
      "_view_module": "@jupyter-widgets/controls",
      "_view_module_version": "1.5.0",
      "_view_name": "ProgressView",
      "bar_style": "success",
      "description": "Downloading: 100%",
      "description_tooltip": null,
      "layout": "IPY_MODEL_56c87805a59945cb981bd3209a07db44",
      "max": 28,
      "min": 0,
      "orientation": "horizontal",
      "style": "IPY_MODEL_0d729015d2cf4dc4bfb0daae1b3c5ac6",
      "value": 28
     }
    },
    "4b311b5fca5344a2a7c16611689ea798": {
     "model_module": "@jupyter-widgets/controls",
     "model_module_version": "1.5.0",
     "model_name": "FloatProgressModel",
     "state": {
      "_dom_classes": [],
      "_model_module": "@jupyter-widgets/controls",
      "_model_module_version": "1.5.0",
      "_model_name": "FloatProgressModel",
      "_view_count": null,
      "_view_module": "@jupyter-widgets/controls",
      "_view_module_version": "1.5.0",
      "_view_name": "ProgressView",
      "bar_style": "success",
      "description": "Downloading: 100%",
      "description_tooltip": null,
      "layout": "IPY_MODEL_ee3a53f77e9a4698aff9749fd38565b3",
      "max": 1715180,
      "min": 0,
      "orientation": "horizontal",
      "style": "IPY_MODEL_62cd05ffa0b14ffd845c8decbd0c35b6",
      "value": 1715180
     }
    },
    "4b330de4ef3744fabbacb47b8d1a549f": {
     "model_module": "@jupyter-widgets/base",
     "model_module_version": "1.2.0",
     "model_name": "LayoutModel",
     "state": {
      "_model_module": "@jupyter-widgets/base",
      "_model_module_version": "1.2.0",
      "_model_name": "LayoutModel",
      "_view_count": null,
      "_view_module": "@jupyter-widgets/base",
      "_view_module_version": "1.2.0",
      "_view_name": "LayoutView",
      "align_content": null,
      "align_items": null,
      "align_self": null,
      "border": null,
      "bottom": null,
      "display": null,
      "flex": null,
      "flex_flow": null,
      "grid_area": null,
      "grid_auto_columns": null,
      "grid_auto_flow": null,
      "grid_auto_rows": null,
      "grid_column": null,
      "grid_gap": null,
      "grid_row": null,
      "grid_template_areas": null,
      "grid_template_columns": null,
      "grid_template_rows": null,
      "height": null,
      "justify_content": null,
      "justify_items": null,
      "left": null,
      "margin": null,
      "max_height": null,
      "max_width": null,
      "min_height": null,
      "min_width": null,
      "object_fit": null,
      "object_position": null,
      "order": null,
      "overflow": null,
      "overflow_x": null,
      "overflow_y": null,
      "padding": null,
      "right": null,
      "top": null,
      "visibility": null,
      "width": null
     }
    },
    "4d757a830a1c4a659aeb8f0a38e41d44": {
     "model_module": "@jupyter-widgets/controls",
     "model_module_version": "1.5.0",
     "model_name": "DescriptionStyleModel",
     "state": {
      "_model_module": "@jupyter-widgets/controls",
      "_model_module_version": "1.5.0",
      "_model_name": "DescriptionStyleModel",
      "_view_count": null,
      "_view_module": "@jupyter-widgets/base",
      "_view_module_version": "1.2.0",
      "_view_name": "StyleView",
      "description_width": ""
     }
    },
    "56c87805a59945cb981bd3209a07db44": {
     "model_module": "@jupyter-widgets/base",
     "model_module_version": "1.2.0",
     "model_name": "LayoutModel",
     "state": {
      "_model_module": "@jupyter-widgets/base",
      "_model_module_version": "1.2.0",
      "_model_name": "LayoutModel",
      "_view_count": null,
      "_view_module": "@jupyter-widgets/base",
      "_view_module_version": "1.2.0",
      "_view_name": "LayoutView",
      "align_content": null,
      "align_items": null,
      "align_self": null,
      "border": null,
      "bottom": null,
      "display": null,
      "flex": null,
      "flex_flow": null,
      "grid_area": null,
      "grid_auto_columns": null,
      "grid_auto_flow": null,
      "grid_auto_rows": null,
      "grid_column": null,
      "grid_gap": null,
      "grid_row": null,
      "grid_template_areas": null,
      "grid_template_columns": null,
      "grid_template_rows": null,
      "height": null,
      "justify_content": null,
      "justify_items": null,
      "left": null,
      "margin": null,
      "max_height": null,
      "max_width": null,
      "min_height": null,
      "min_width": null,
      "object_fit": null,
      "object_position": null,
      "order": null,
      "overflow": null,
      "overflow_x": null,
      "overflow_y": null,
      "padding": null,
      "right": null,
      "top": null,
      "visibility": null,
      "width": null
     }
    },
    "5a3397acacd74bc09699e70eb73005a8": {
     "model_module": "@jupyter-widgets/controls",
     "model_module_version": "1.5.0",
     "model_name": "HTMLModel",
     "state": {
      "_dom_classes": [],
      "_model_module": "@jupyter-widgets/controls",
      "_model_module_version": "1.5.0",
      "_model_name": "HTMLModel",
      "_view_count": null,
      "_view_module": "@jupyter-widgets/controls",
      "_view_module_version": "1.5.0",
      "_view_name": "HTMLView",
      "description": "",
      "description_tooltip": null,
      "layout": "IPY_MODEL_fbb45ff5492449b59db43c3d78c7612b",
      "placeholder": "​",
      "style": "IPY_MODEL_a7a11cf41c934f4196edf08cbb72eb93",
      "value": " 1.72M/1.72M [00:01&lt;00:00, 925kB/s]"
     }
    },
    "5d05ef13c71e47fcb790d61a3d1143fc": {
     "model_module": "@jupyter-widgets/controls",
     "model_module_version": "1.5.0",
     "model_name": "ProgressStyleModel",
     "state": {
      "_model_module": "@jupyter-widgets/controls",
      "_model_module_version": "1.5.0",
      "_model_name": "ProgressStyleModel",
      "_view_count": null,
      "_view_module": "@jupyter-widgets/base",
      "_view_module_version": "1.2.0",
      "_view_name": "StyleView",
      "bar_color": null,
      "description_width": "initial"
     }
    },
    "62cd05ffa0b14ffd845c8decbd0c35b6": {
     "model_module": "@jupyter-widgets/controls",
     "model_module_version": "1.5.0",
     "model_name": "ProgressStyleModel",
     "state": {
      "_model_module": "@jupyter-widgets/controls",
      "_model_module_version": "1.5.0",
      "_model_name": "ProgressStyleModel",
      "_view_count": null,
      "_view_module": "@jupyter-widgets/base",
      "_view_module_version": "1.2.0",
      "_view_name": "StyleView",
      "bar_color": null,
      "description_width": "initial"
     }
    },
    "6520a5a1eb304e208864f734e7a44c61": {
     "model_module": "@jupyter-widgets/base",
     "model_module_version": "1.2.0",
     "model_name": "LayoutModel",
     "state": {
      "_model_module": "@jupyter-widgets/base",
      "_model_module_version": "1.2.0",
      "_model_name": "LayoutModel",
      "_view_count": null,
      "_view_module": "@jupyter-widgets/base",
      "_view_module_version": "1.2.0",
      "_view_name": "LayoutView",
      "align_content": null,
      "align_items": null,
      "align_self": null,
      "border": null,
      "bottom": null,
      "display": null,
      "flex": null,
      "flex_flow": null,
      "grid_area": null,
      "grid_auto_columns": null,
      "grid_auto_flow": null,
      "grid_auto_rows": null,
      "grid_column": null,
      "grid_gap": null,
      "grid_row": null,
      "grid_template_areas": null,
      "grid_template_columns": null,
      "grid_template_rows": null,
      "height": null,
      "justify_content": null,
      "justify_items": null,
      "left": null,
      "margin": null,
      "max_height": null,
      "max_width": null,
      "min_height": null,
      "min_width": null,
      "object_fit": null,
      "object_position": null,
      "order": null,
      "overflow": null,
      "overflow_x": null,
      "overflow_y": null,
      "padding": null,
      "right": null,
      "top": null,
      "visibility": null,
      "width": null
     }
    },
    "7406753d02d84af1946fcbaf1a10bc0e": {
     "model_module": "@jupyter-widgets/base",
     "model_module_version": "1.2.0",
     "model_name": "LayoutModel",
     "state": {
      "_model_module": "@jupyter-widgets/base",
      "_model_module_version": "1.2.0",
      "_model_name": "LayoutModel",
      "_view_count": null,
      "_view_module": "@jupyter-widgets/base",
      "_view_module_version": "1.2.0",
      "_view_name": "LayoutView",
      "align_content": null,
      "align_items": null,
      "align_self": null,
      "border": null,
      "bottom": null,
      "display": null,
      "flex": null,
      "flex_flow": null,
      "grid_area": null,
      "grid_auto_columns": null,
      "grid_auto_flow": null,
      "grid_auto_rows": null,
      "grid_column": null,
      "grid_gap": null,
      "grid_row": null,
      "grid_template_areas": null,
      "grid_template_columns": null,
      "grid_template_rows": null,
      "height": null,
      "justify_content": null,
      "justify_items": null,
      "left": null,
      "margin": null,
      "max_height": null,
      "max_width": null,
      "min_height": null,
      "min_width": null,
      "object_fit": null,
      "object_position": null,
      "order": null,
      "overflow": null,
      "overflow_x": null,
      "overflow_y": null,
      "padding": null,
      "right": null,
      "top": null,
      "visibility": null,
      "width": null
     }
    },
    "76a32171d6e14ac6906f8e3ccfe3523a": {
     "model_module": "@jupyter-widgets/base",
     "model_module_version": "1.2.0",
     "model_name": "LayoutModel",
     "state": {
      "_model_module": "@jupyter-widgets/base",
      "_model_module_version": "1.2.0",
      "_model_name": "LayoutModel",
      "_view_count": null,
      "_view_module": "@jupyter-widgets/base",
      "_view_module_version": "1.2.0",
      "_view_name": "LayoutView",
      "align_content": null,
      "align_items": null,
      "align_self": null,
      "border": null,
      "bottom": null,
      "display": null,
      "flex": null,
      "flex_flow": null,
      "grid_area": null,
      "grid_auto_columns": null,
      "grid_auto_flow": null,
      "grid_auto_rows": null,
      "grid_column": null,
      "grid_gap": null,
      "grid_row": null,
      "grid_template_areas": null,
      "grid_template_columns": null,
      "grid_template_rows": null,
      "height": null,
      "justify_content": null,
      "justify_items": null,
      "left": null,
      "margin": null,
      "max_height": null,
      "max_width": null,
      "min_height": null,
      "min_width": null,
      "object_fit": null,
      "object_position": null,
      "order": null,
      "overflow": null,
      "overflow_x": null,
      "overflow_y": null,
      "padding": null,
      "right": null,
      "top": null,
      "visibility": null,
      "width": null
     }
    },
    "7d06c963357a45f2af65fda88711d48d": {
     "model_module": "@jupyter-widgets/controls",
     "model_module_version": "1.5.0",
     "model_name": "DescriptionStyleModel",
     "state": {
      "_model_module": "@jupyter-widgets/controls",
      "_model_module_version": "1.5.0",
      "_model_name": "DescriptionStyleModel",
      "_view_count": null,
      "_view_module": "@jupyter-widgets/base",
      "_view_module_version": "1.2.0",
      "_view_name": "StyleView",
      "description_width": ""
     }
    },
    "7fe26193e5fa490d94a4278c0de0da60": {
     "model_module": "@jupyter-widgets/controls",
     "model_module_version": "1.5.0",
     "model_name": "HBoxModel",
     "state": {
      "_dom_classes": [],
      "_model_module": "@jupyter-widgets/controls",
      "_model_module_version": "1.5.0",
      "_model_name": "HBoxModel",
      "_view_count": null,
      "_view_module": "@jupyter-widgets/controls",
      "_view_module_version": "1.5.0",
      "_view_name": "HBoxView",
      "box_style": "",
      "children": [
       "IPY_MODEL_4b311b5fca5344a2a7c16611689ea798",
       "IPY_MODEL_5a3397acacd74bc09699e70eb73005a8"
      ],
      "layout": "IPY_MODEL_4b330de4ef3744fabbacb47b8d1a549f"
     }
    },
    "805a83b8be244203ab226c5b0224e2cc": {
     "model_module": "@jupyter-widgets/base",
     "model_module_version": "1.2.0",
     "model_name": "LayoutModel",
     "state": {
      "_model_module": "@jupyter-widgets/base",
      "_model_module_version": "1.2.0",
      "_model_name": "LayoutModel",
      "_view_count": null,
      "_view_module": "@jupyter-widgets/base",
      "_view_module_version": "1.2.0",
      "_view_name": "LayoutView",
      "align_content": null,
      "align_items": null,
      "align_self": null,
      "border": null,
      "bottom": null,
      "display": null,
      "flex": null,
      "flex_flow": null,
      "grid_area": null,
      "grid_auto_columns": null,
      "grid_auto_flow": null,
      "grid_auto_rows": null,
      "grid_column": null,
      "grid_gap": null,
      "grid_row": null,
      "grid_template_areas": null,
      "grid_template_columns": null,
      "grid_template_rows": null,
      "height": null,
      "justify_content": null,
      "justify_items": null,
      "left": null,
      "margin": null,
      "max_height": null,
      "max_width": null,
      "min_height": null,
      "min_width": null,
      "object_fit": null,
      "object_position": null,
      "order": null,
      "overflow": null,
      "overflow_x": null,
      "overflow_y": null,
      "padding": null,
      "right": null,
      "top": null,
      "visibility": null,
      "width": null
     }
    },
    "89e3a764b8b24283a3102be5c3ef6187": {
     "model_module": "@jupyter-widgets/base",
     "model_module_version": "1.2.0",
     "model_name": "LayoutModel",
     "state": {
      "_model_module": "@jupyter-widgets/base",
      "_model_module_version": "1.2.0",
      "_model_name": "LayoutModel",
      "_view_count": null,
      "_view_module": "@jupyter-widgets/base",
      "_view_module_version": "1.2.0",
      "_view_name": "LayoutView",
      "align_content": null,
      "align_items": null,
      "align_self": null,
      "border": null,
      "bottom": null,
      "display": null,
      "flex": null,
      "flex_flow": null,
      "grid_area": null,
      "grid_auto_columns": null,
      "grid_auto_flow": null,
      "grid_auto_rows": null,
      "grid_column": null,
      "grid_gap": null,
      "grid_row": null,
      "grid_template_areas": null,
      "grid_template_columns": null,
      "grid_template_rows": null,
      "height": null,
      "justify_content": null,
      "justify_items": null,
      "left": null,
      "margin": null,
      "max_height": null,
      "max_width": null,
      "min_height": null,
      "min_width": null,
      "object_fit": null,
      "object_position": null,
      "order": null,
      "overflow": null,
      "overflow_x": null,
      "overflow_y": null,
      "padding": null,
      "right": null,
      "top": null,
      "visibility": null,
      "width": null
     }
    },
    "965709b012994ff387e278dedef3d0d1": {
     "model_module": "@jupyter-widgets/controls",
     "model_module_version": "1.5.0",
     "model_name": "FloatProgressModel",
     "state": {
      "_dom_classes": [],
      "_model_module": "@jupyter-widgets/controls",
      "_model_module_version": "1.5.0",
      "_model_name": "FloatProgressModel",
      "_view_count": null,
      "_view_module": "@jupyter-widgets/controls",
      "_view_module_version": "1.5.0",
      "_view_name": "ProgressView",
      "bar_style": "success",
      "description": "Downloading: 100%",
      "description_tooltip": null,
      "layout": "IPY_MODEL_c6f0d4cdca5548cdba8254ed51d8b62f",
      "max": 871891,
      "min": 0,
      "orientation": "horizontal",
      "style": "IPY_MODEL_5d05ef13c71e47fcb790d61a3d1143fc",
      "value": 871891
     }
    },
    "a3f8442dd1024d49b3fcad17a772abc1": {
     "model_module": "@jupyter-widgets/controls",
     "model_module_version": "1.5.0",
     "model_name": "HTMLModel",
     "state": {
      "_dom_classes": [],
      "_model_module": "@jupyter-widgets/controls",
      "_model_module_version": "1.5.0",
      "_model_name": "HTMLModel",
      "_view_count": null,
      "_view_module": "@jupyter-widgets/controls",
      "_view_module_version": "1.5.0",
      "_view_name": "HTMLView",
      "description": "",
      "description_tooltip": null,
      "layout": "IPY_MODEL_6520a5a1eb304e208864f734e7a44c61",
      "placeholder": "​",
      "style": "IPY_MODEL_4d757a830a1c4a659aeb8f0a38e41d44",
      "value": " 625/625 [00:00&lt;00:00, 1.92kB/s]"
     }
    },
    "a4576aa39905480eadd6a719db351b39": {
     "model_module": "@jupyter-widgets/controls",
     "model_module_version": "1.5.0",
     "model_name": "ProgressStyleModel",
     "state": {
      "_model_module": "@jupyter-widgets/controls",
      "_model_module_version": "1.5.0",
      "_model_name": "ProgressStyleModel",
      "_view_count": null,
      "_view_module": "@jupyter-widgets/base",
      "_view_module_version": "1.2.0",
      "_view_name": "StyleView",
      "bar_color": null,
      "description_width": "initial"
     }
    },
    "a7a11cf41c934f4196edf08cbb72eb93": {
     "model_module": "@jupyter-widgets/controls",
     "model_module_version": "1.5.0",
     "model_name": "DescriptionStyleModel",
     "state": {
      "_model_module": "@jupyter-widgets/controls",
      "_model_module_version": "1.5.0",
      "_model_name": "DescriptionStyleModel",
      "_view_count": null,
      "_view_module": "@jupyter-widgets/base",
      "_view_module_version": "1.2.0",
      "_view_name": "StyleView",
      "description_width": ""
     }
    },
    "b2b248fc48e847efa9ae1b536f30efd5": {
     "model_module": "@jupyter-widgets/base",
     "model_module_version": "1.2.0",
     "model_name": "LayoutModel",
     "state": {
      "_model_module": "@jupyter-widgets/base",
      "_model_module_version": "1.2.0",
      "_model_name": "LayoutModel",
      "_view_count": null,
      "_view_module": "@jupyter-widgets/base",
      "_view_module_version": "1.2.0",
      "_view_name": "LayoutView",
      "align_content": null,
      "align_items": null,
      "align_self": null,
      "border": null,
      "bottom": null,
      "display": null,
      "flex": null,
      "flex_flow": null,
      "grid_area": null,
      "grid_auto_columns": null,
      "grid_auto_flow": null,
      "grid_auto_rows": null,
      "grid_column": null,
      "grid_gap": null,
      "grid_row": null,
      "grid_template_areas": null,
      "grid_template_columns": null,
      "grid_template_rows": null,
      "height": null,
      "justify_content": null,
      "justify_items": null,
      "left": null,
      "margin": null,
      "max_height": null,
      "max_width": null,
      "min_height": null,
      "min_width": null,
      "object_fit": null,
      "object_position": null,
      "order": null,
      "overflow": null,
      "overflow_x": null,
      "overflow_y": null,
      "padding": null,
      "right": null,
      "top": null,
      "visibility": null,
      "width": null
     }
    },
    "bd7dcf132eac42eda9b2de6c600803e9": {
     "model_module": "@jupyter-widgets/controls",
     "model_module_version": "1.5.0",
     "model_name": "DescriptionStyleModel",
     "state": {
      "_model_module": "@jupyter-widgets/controls",
      "_model_module_version": "1.5.0",
      "_model_name": "DescriptionStyleModel",
      "_view_count": null,
      "_view_module": "@jupyter-widgets/base",
      "_view_module_version": "1.2.0",
      "_view_name": "StyleView",
      "description_width": ""
     }
    },
    "c62d315726b846d7bcf634581caa0913": {
     "model_module": "@jupyter-widgets/base",
     "model_module_version": "1.2.0",
     "model_name": "LayoutModel",
     "state": {
      "_model_module": "@jupyter-widgets/base",
      "_model_module_version": "1.2.0",
      "_model_name": "LayoutModel",
      "_view_count": null,
      "_view_module": "@jupyter-widgets/base",
      "_view_module_version": "1.2.0",
      "_view_name": "LayoutView",
      "align_content": null,
      "align_items": null,
      "align_self": null,
      "border": null,
      "bottom": null,
      "display": null,
      "flex": null,
      "flex_flow": null,
      "grid_area": null,
      "grid_auto_columns": null,
      "grid_auto_flow": null,
      "grid_auto_rows": null,
      "grid_column": null,
      "grid_gap": null,
      "grid_row": null,
      "grid_template_areas": null,
      "grid_template_columns": null,
      "grid_template_rows": null,
      "height": null,
      "justify_content": null,
      "justify_items": null,
      "left": null,
      "margin": null,
      "max_height": null,
      "max_width": null,
      "min_height": null,
      "min_width": null,
      "object_fit": null,
      "object_position": null,
      "order": null,
      "overflow": null,
      "overflow_x": null,
      "overflow_y": null,
      "padding": null,
      "right": null,
      "top": null,
      "visibility": null,
      "width": null
     }
    },
    "c6f0d4cdca5548cdba8254ed51d8b62f": {
     "model_module": "@jupyter-widgets/base",
     "model_module_version": "1.2.0",
     "model_name": "LayoutModel",
     "state": {
      "_model_module": "@jupyter-widgets/base",
      "_model_module_version": "1.2.0",
      "_model_name": "LayoutModel",
      "_view_count": null,
      "_view_module": "@jupyter-widgets/base",
      "_view_module_version": "1.2.0",
      "_view_name": "LayoutView",
      "align_content": null,
      "align_items": null,
      "align_self": null,
      "border": null,
      "bottom": null,
      "display": null,
      "flex": null,
      "flex_flow": null,
      "grid_area": null,
      "grid_auto_columns": null,
      "grid_auto_flow": null,
      "grid_auto_rows": null,
      "grid_column": null,
      "grid_gap": null,
      "grid_row": null,
      "grid_template_areas": null,
      "grid_template_columns": null,
      "grid_template_rows": null,
      "height": null,
      "justify_content": null,
      "justify_items": null,
      "left": null,
      "margin": null,
      "max_height": null,
      "max_width": null,
      "min_height": null,
      "min_width": null,
      "object_fit": null,
      "object_position": null,
      "order": null,
      "overflow": null,
      "overflow_x": null,
      "overflow_y": null,
      "padding": null,
      "right": null,
      "top": null,
      "visibility": null,
      "width": null
     }
    },
    "cc8d58a5190e4bd4a3e662a416a18cbd": {
     "model_module": "@jupyter-widgets/controls",
     "model_module_version": "1.5.0",
     "model_name": "ProgressStyleModel",
     "state": {
      "_model_module": "@jupyter-widgets/controls",
      "_model_module_version": "1.5.0",
      "_model_name": "ProgressStyleModel",
      "_view_count": null,
      "_view_module": "@jupyter-widgets/base",
      "_view_module_version": "1.2.0",
      "_view_name": "StyleView",
      "bar_color": null,
      "description_width": "initial"
     }
    },
    "d6e46239d62844ba8c945cb896d78b6b": {
     "model_module": "@jupyter-widgets/controls",
     "model_module_version": "1.5.0",
     "model_name": "DescriptionStyleModel",
     "state": {
      "_model_module": "@jupyter-widgets/controls",
      "_model_module_version": "1.5.0",
      "_model_name": "DescriptionStyleModel",
      "_view_count": null,
      "_view_module": "@jupyter-widgets/base",
      "_view_module_version": "1.2.0",
      "_view_name": "StyleView",
      "description_width": ""
     }
    },
    "da68b7ae4193410c8a63c044e8ea018f": {
     "model_module": "@jupyter-widgets/base",
     "model_module_version": "1.2.0",
     "model_name": "LayoutModel",
     "state": {
      "_model_module": "@jupyter-widgets/base",
      "_model_module_version": "1.2.0",
      "_model_name": "LayoutModel",
      "_view_count": null,
      "_view_module": "@jupyter-widgets/base",
      "_view_module_version": "1.2.0",
      "_view_name": "LayoutView",
      "align_content": null,
      "align_items": null,
      "align_self": null,
      "border": null,
      "bottom": null,
      "display": null,
      "flex": null,
      "flex_flow": null,
      "grid_area": null,
      "grid_auto_columns": null,
      "grid_auto_flow": null,
      "grid_auto_rows": null,
      "grid_column": null,
      "grid_gap": null,
      "grid_row": null,
      "grid_template_areas": null,
      "grid_template_columns": null,
      "grid_template_rows": null,
      "height": null,
      "justify_content": null,
      "justify_items": null,
      "left": null,
      "margin": null,
      "max_height": null,
      "max_width": null,
      "min_height": null,
      "min_width": null,
      "object_fit": null,
      "object_position": null,
      "order": null,
      "overflow": null,
      "overflow_x": null,
      "overflow_y": null,
      "padding": null,
      "right": null,
      "top": null,
      "visibility": null,
      "width": null
     }
    },
    "dc90766332d64eba8772d042c593709a": {
     "model_module": "@jupyter-widgets/controls",
     "model_module_version": "1.5.0",
     "model_name": "HTMLModel",
     "state": {
      "_dom_classes": [],
      "_model_module": "@jupyter-widgets/controls",
      "_model_module_version": "1.5.0",
      "_model_name": "HTMLModel",
      "_view_count": null,
      "_view_module": "@jupyter-widgets/controls",
      "_view_module_version": "1.5.0",
      "_view_name": "HTMLView",
      "description": "",
      "description_tooltip": null,
      "layout": "IPY_MODEL_7406753d02d84af1946fcbaf1a10bc0e",
      "placeholder": "​",
      "style": "IPY_MODEL_7d06c963357a45f2af65fda88711d48d",
      "value": " 999M/999M [00:34&lt;00:00, 28.6MB/s]"
     }
    },
    "ee3a53f77e9a4698aff9749fd38565b3": {
     "model_module": "@jupyter-widgets/base",
     "model_module_version": "1.2.0",
     "model_name": "LayoutModel",
     "state": {
      "_model_module": "@jupyter-widgets/base",
      "_model_module_version": "1.2.0",
      "_model_name": "LayoutModel",
      "_view_count": null,
      "_view_module": "@jupyter-widgets/base",
      "_view_module_version": "1.2.0",
      "_view_name": "LayoutView",
      "align_content": null,
      "align_items": null,
      "align_self": null,
      "border": null,
      "bottom": null,
      "display": null,
      "flex": null,
      "flex_flow": null,
      "grid_area": null,
      "grid_auto_columns": null,
      "grid_auto_flow": null,
      "grid_auto_rows": null,
      "grid_column": null,
      "grid_gap": null,
      "grid_row": null,
      "grid_template_areas": null,
      "grid_template_columns": null,
      "grid_template_rows": null,
      "height": null,
      "justify_content": null,
      "justify_items": null,
      "left": null,
      "margin": null,
      "max_height": null,
      "max_width": null,
      "min_height": null,
      "min_width": null,
      "object_fit": null,
      "object_position": null,
      "order": null,
      "overflow": null,
      "overflow_x": null,
      "overflow_y": null,
      "padding": null,
      "right": null,
      "top": null,
      "visibility": null,
      "width": null
     }
    },
    "f3dc5ce081a04f1e95a6ad67ae5f8dd2": {
     "model_module": "@jupyter-widgets/controls",
     "model_module_version": "1.5.0",
     "model_name": "HBoxModel",
     "state": {
      "_dom_classes": [],
      "_model_module": "@jupyter-widgets/controls",
      "_model_module_version": "1.5.0",
      "_model_name": "HBoxModel",
      "_view_count": null,
      "_view_module": "@jupyter-widgets/controls",
      "_view_module_version": "1.5.0",
      "_view_name": "HBoxView",
      "box_style": "",
      "children": [
       "IPY_MODEL_ffd833a258394f4597f3514f59f3d478",
       "IPY_MODEL_dc90766332d64eba8772d042c593709a"
      ],
      "layout": "IPY_MODEL_000492f04a8641fa966edb4b2892b700"
     }
    },
    "f6f90fb61e584f81bc61252a3b57194a": {
     "model_module": "@jupyter-widgets/controls",
     "model_module_version": "1.5.0",
     "model_name": "HBoxModel",
     "state": {
      "_dom_classes": [],
      "_model_module": "@jupyter-widgets/controls",
      "_model_module_version": "1.5.0",
      "_model_name": "HBoxModel",
      "_view_count": null,
      "_view_module": "@jupyter-widgets/controls",
      "_view_module_version": "1.5.0",
      "_view_name": "HBoxView",
      "box_style": "",
      "children": [
       "IPY_MODEL_15dc099659e947df9868ff532963003f",
       "IPY_MODEL_a3f8442dd1024d49b3fcad17a772abc1"
      ],
      "layout": "IPY_MODEL_da68b7ae4193410c8a63c044e8ea018f"
     }
    },
    "f98af15ec4564621989a83496d6a6831": {
     "model_module": "@jupyter-widgets/base",
     "model_module_version": "1.2.0",
     "model_name": "LayoutModel",
     "state": {
      "_model_module": "@jupyter-widgets/base",
      "_model_module_version": "1.2.0",
      "_model_name": "LayoutModel",
      "_view_count": null,
      "_view_module": "@jupyter-widgets/base",
      "_view_module_version": "1.2.0",
      "_view_name": "LayoutView",
      "align_content": null,
      "align_items": null,
      "align_self": null,
      "border": null,
      "bottom": null,
      "display": null,
      "flex": null,
      "flex_flow": null,
      "grid_area": null,
      "grid_auto_columns": null,
      "grid_auto_flow": null,
      "grid_auto_rows": null,
      "grid_column": null,
      "grid_gap": null,
      "grid_row": null,
      "grid_template_areas": null,
      "grid_template_columns": null,
      "grid_template_rows": null,
      "height": null,
      "justify_content": null,
      "justify_items": null,
      "left": null,
      "margin": null,
      "max_height": null,
      "max_width": null,
      "min_height": null,
      "min_width": null,
      "object_fit": null,
      "object_position": null,
      "order": null,
      "overflow": null,
      "overflow_x": null,
      "overflow_y": null,
      "padding": null,
      "right": null,
      "top": null,
      "visibility": null,
      "width": null
     }
    },
    "fbb45ff5492449b59db43c3d78c7612b": {
     "model_module": "@jupyter-widgets/base",
     "model_module_version": "1.2.0",
     "model_name": "LayoutModel",
     "state": {
      "_model_module": "@jupyter-widgets/base",
      "_model_module_version": "1.2.0",
      "_model_name": "LayoutModel",
      "_view_count": null,
      "_view_module": "@jupyter-widgets/base",
      "_view_module_version": "1.2.0",
      "_view_name": "LayoutView",
      "align_content": null,
      "align_items": null,
      "align_self": null,
      "border": null,
      "bottom": null,
      "display": null,
      "flex": null,
      "flex_flow": null,
      "grid_area": null,
      "grid_auto_columns": null,
      "grid_auto_flow": null,
      "grid_auto_rows": null,
      "grid_column": null,
      "grid_gap": null,
      "grid_row": null,
      "grid_template_areas": null,
      "grid_template_columns": null,
      "grid_template_rows": null,
      "height": null,
      "justify_content": null,
      "justify_items": null,
      "left": null,
      "margin": null,
      "max_height": null,
      "max_width": null,
      "min_height": null,
      "min_width": null,
      "object_fit": null,
      "object_position": null,
      "order": null,
      "overflow": null,
      "overflow_x": null,
      "overflow_y": null,
      "padding": null,
      "right": null,
      "top": null,
      "visibility": null,
      "width": null
     }
    },
    "ffd833a258394f4597f3514f59f3d478": {
     "model_module": "@jupyter-widgets/controls",
     "model_module_version": "1.5.0",
     "model_name": "FloatProgressModel",
     "state": {
      "_dom_classes": [],
      "_model_module": "@jupyter-widgets/controls",
      "_model_module_version": "1.5.0",
      "_model_name": "FloatProgressModel",
      "_view_count": null,
      "_view_module": "@jupyter-widgets/controls",
      "_view_module_version": "1.5.0",
      "_view_name": "ProgressView",
      "bar_style": "success",
      "description": "Downloading: 100%",
      "description_tooltip": null,
      "layout": "IPY_MODEL_f98af15ec4564621989a83496d6a6831",
      "max": 999358484,
      "min": 0,
      "orientation": "horizontal",
      "style": "IPY_MODEL_a4576aa39905480eadd6a719db351b39",
      "value": 999358484
     }
    }
   }
  }
 },
 "nbformat": 4,
 "nbformat_minor": 1
}
